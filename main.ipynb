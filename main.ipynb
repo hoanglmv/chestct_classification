{
 "cells": [
  {
   "cell_type": "code",
   "execution_count": null,
   "id": "e4fcc6a3",
   "metadata": {},
   "outputs": [],
   "source": [
    "import numpy as np\n",
    "import pandas as pd\n",
    "import os\n",
    "from pathlib import Path\n",
    "import itertools\n",
    "import pandas as pd\n",
    "import numpy as np\n",
    "import tensorflow as tf\n",
    "import seaborn as sns\n",
    "import matplotlib.pyplot as plt\n",
    "from PIL import Image\n",
    "import random\n",
    "import cv2\n",
    "from sklearn.preprocessing import LabelEncoder\n",
    "from tensorflow.keras.utils import to_categorical\n",
    "from tensorflow.keras.models import Sequential, Model\n",
    "from tensorflow.keras.losses import SparseCategoricalCrossentropy\n",
    "from tensorflow.keras.layers import Input, Conv2D, MaxPooling2D, Flatten, Activation,Dropout, Dense, GlobalAveragePooling2D\n",
    "from tensorflow.keras.optimizers import Adam,  Adagrad\n",
    "from tensorflow.keras.callbacks import EarlyStopping\n",
    "from tensorflow.keras.regularizers import l2\n",
    "from tensorflow.keras.applications import VGG16\n",
    "from tensorflow.keras.models import Model\n",
    "from tensorflow.keras import models"
   ]
  },
  {
   "cell_type": "code",
   "execution_count": null,
   "id": "62437917",
   "metadata": {},
   "outputs": [],
   "source": [
    "data_path = Path(f\"Data\")\n",
    "train_path = data_path / 'train'\n",
    "test_path = data_path / \"test\"\n",
    "val_path = data_path / \"valid\"\n",
    "\n",
    "print(os.listdir(data_path))"
   ]
  },
  {
   "cell_type": "code",
   "execution_count": null,
   "id": "ea2659ae",
   "metadata": {},
   "outputs": [],
   "source": [
    "# View data in a Data Frame\n",
    "from data_utils import load_data, append_labeled_image\n",
    "from visualization import plot\n",
    "train_df = load_data(train_path, data = \"train\")\n",
    "test_df = load_data(test_path, data = \"test\")\n",
    "val_df = load_data(val_path, data = \"validation\")"
   ]
  },
  {
   "cell_type": "code",
   "execution_count": null,
   "id": "73265d3d",
   "metadata": {},
   "outputs": [],
   "source": [
    "print(f\"Shape of the Train Dataframe = {train_df.shape}\")\n",
    "print(train_df.head())"
   ]
  },
  {
   "cell_type": "code",
   "execution_count": null,
   "id": "74fd392f",
   "metadata": {},
   "outputs": [],
   "source": [
    "print(f\"Shape of the Test Dataframe = {train_df.shape}\")\n",
    "print(train_df.head())"
   ]
  },
  {
   "cell_type": "code",
   "execution_count": null,
   "id": "77433472",
   "metadata": {},
   "outputs": [],
   "source": [
    "print(f\"Shape of the Validation Dataframe = {train_df.shape}\")\n",
    "print(train_df.head())"
   ]
  },
  {
   "cell_type": "code",
   "execution_count": null,
   "id": "949f2341",
   "metadata": {},
   "outputs": [],
   "source": [
    "train_df.dtypes"
   ]
  },
  {
   "cell_type": "code",
   "execution_count": null,
   "id": "8899e653",
   "metadata": {},
   "outputs": [],
   "source": [
    "train_df[\"label\"] = train_df[\"label\"].astype(\"category\")\n",
    "\n",
    "print(train_df.dtypes)\n",
    "# Convert object to category help saving memmory and grouping intuitivity\n"
   ]
  },
  {
   "cell_type": "code",
   "execution_count": null,
   "id": "f312f499",
   "metadata": {},
   "outputs": [],
   "source": [
    "# View cancer case by categories\n",
    "print(f\"Unique Cancer Cases {train_df['label'].unique()}\")\n",
    "\n",
    "print(train_df['label'].value_counts())\n"
   ]
  },
  {
   "cell_type": "code",
   "execution_count": null,
   "id": "ddfeb6af",
   "metadata": {},
   "outputs": [],
   "source": [
    "# Visualize the distribution of each Case\n",
    "sns.countplot(x = \"label\", data = train_df)\n",
    "plt.xticks(rotation=90)\n",
    "plt.xlabel(\"Case #\")\n",
    "plt.ylabel(\"Count\")\n",
    "plt.show()"
   ]
  },
  {
   "cell_type": "code",
   "execution_count": null,
   "id": "32a948da",
   "metadata": {},
   "outputs": [],
   "source": [
    "plot(train_df)"
   ]
  },
  {
   "cell_type": "code",
   "execution_count": null,
   "id": "ef1888b8",
   "metadata": {},
   "outputs": [],
   "source": [
    "# Preprocess\n",
    "from preprocess import preprocess_image, process_dataframe"
   ]
  },
  {
   "cell_type": "code",
   "execution_count": null,
   "id": "6cbb68aa",
   "metadata": {},
   "outputs": [],
   "source": [
    "label_encoder = LabelEncoder() # convert Label from categoricals labels to a number\n",
    "\n",
    "# Train set\n",
    "x_train, y_train = process_dataframe(train_df, label_encoder, fit_encoder=True)\n",
    "\n",
    "# Validation and test sets (transform)\n",
    "x_val, y_val = process_dataframe(val_df, label_encoder)\n",
    "x_test, y_test = process_dataframe(test_df, label_encoder)"
   ]
  },
  {
   "cell_type": "code",
   "execution_count": null,
   "id": "4d36623c",
   "metadata": {},
   "outputs": [],
   "source": [
    "print(f\"Number of Train examples: {len(x_test)}\")\n",
    "print(f\"Number of Test examples: {len(x_test)}\")\n",
    "print(f\"Number of Validation examples: {len(x_val)}\")\n",
    "print(f\"Label classes: {label_encoder.classes_}\")"
   ]
  },
  {
   "cell_type": "code",
   "execution_count": null,
   "id": "12b81621",
   "metadata": {},
   "outputs": [],
   "source": [
    "# Check some decoded labels\n",
    "print(\"First 5 test labels (decoded):\", label_encoder.inverse_transform(y_test[10:15]))\n",
    "print(\"Corresponding filenames:\", test_df[\"images\"].iloc[10:15].values)"
   ]
  },
  {
   "cell_type": "code",
   "execution_count": null,
   "id": "64247e8a",
   "metadata": {},
   "outputs": [],
   "source": [
    "NUM_CLASSES = train_df[\"label\"].nunique()"
   ]
  },
  {
   "cell_type": "code",
   "execution_count": null,
   "id": "2a26325b",
   "metadata": {},
   "outputs": [],
   "source": [
    "from tensorflow.keras.applications import ResNet50\n",
    "from tensorflow.keras import layers, models\n",
    "from tensorflow.keras.optimizers import Adam\n",
    "from tensorflow.keras.losses import SparseCategoricalCrossentropy\n",
    "\n",
    "def resnet_model():\n",
    "    base_model = ResNet50(weights='imagenet', include_top=False, input_shape=(224, 224, 3))\n",
    "    base_model.trainable = False  # Freeze the base model layers\n",
    "\n",
    "    # Define the full model with unfreezed last layers\n",
    "    model = models.Sequential([\n",
    "        base_model,\n",
    "        layers.GlobalAveragePooling2D(),\n",
    "        layers.Dense(256, activation='relu'),\n",
    "        layers.Dropout(0.25),\n",
    "        layers.Dense(128, activation='relu'),\n",
    "        layers.Dropout(0.25),\n",
    "        layers.Dense(64, activation='relu'),\n",
    "        layers.Dropout(0.25),\n",
    "        layers.Dense(NUM_CLASSES, activation='softmax')\n",
    "    ])\n",
    "    \n",
    "    # Compile the model\n",
    "    optimizer = Adam(learning_rate=0.001)\n",
    "    \n",
    "    model.compile(loss=SparseCategoricalCrossentropy(),\n",
    "                  optimizer=optimizer,\n",
    "                  metrics=[\"accuracy\"])\n",
    "    \n",
    "    return model\n"
   ]
  },
  {
   "cell_type": "code",
   "execution_count": null,
   "id": "fe6f4dbc",
   "metadata": {},
   "outputs": [],
   "source": [
    "resnet_model = resnet_model()\n",
    "\n",
    "# Define early stopping\n",
    "early_stop = EarlyStopping(monitor='val_loss', patience=5, restore_best_weights=True)\n",
    "\n",
    "# Train the model\n",
    "history = resnet_model.fit(\n",
    "    x_train, y_train, batch_size=32,\n",
    "    epochs=60,\n",
    "    validation_data=(x_test, y_test),\n",
    "    callbacks=[early_stop]\n",
    ")\n",
    "# Lưu mô hình đã huấn luyện\n",
    "resnet_model.save('resnet_model.h5')  # Lưu dưới dạng file HDF5\n"
   ]
  },
  {
   "cell_type": "code",
   "execution_count": null,
   "id": "1a78d892",
   "metadata": {},
   "outputs": [],
   "source": [
    "from tensorflow.keras.models import load_model\n",
    "\n",
    "# Tải lại mô hình từ file đã lưu\n",
    "loaded_model = load_model('resnet_model.h5')\n"
   ]
  },
  {
   "cell_type": "code",
   "execution_count": null,
   "id": "61e77b08",
   "metadata": {},
   "outputs": [],
   "source": [
    "# 10 indices chosen randomly\n",
    "indices = random.sample(range(len(x_val)), 10)\n",
    "\n",
    "# Get the images and true labels\n",
    "x_sample = x_val[indices]\n",
    "y_true = y_val[indices]\n",
    "    \n",
    "def plot_predictions(model):\n",
    "    # Predict labels\n",
    "    y_pred_probs = model.predict(x_sample)\n",
    "    y_pred = np.argmax(y_pred_probs, axis=1)\n",
    "    \n",
    "    # Decode labels using label_incoder\n",
    "    actual_labels = label_encoder.inverse_transform(y_true)\n",
    "    predicted_labels = label_encoder.inverse_transform(y_pred)\n",
    "    \n",
    "    # Plotting\n",
    "    plt.figure(figsize=(15, 6))\n",
    "    for i in range(10):\n",
    "        plt.subplot(2, 5, i + 1)\n",
    "        img = cv2.cvtColor((x_sample[i] * 255).astype(np.uint8), cv2.COLOR_BGR2RGB)  # if images are normalized\n",
    "        plt.imshow(img)\n",
    "        plt.axis('off')\n",
    "        plt.title(f\"True: {actual_labels[i]}\\nPred: {predicted_labels[i]}\", fontsize=10, color='green' if actual_labels[i]==predicted_labels[i] else 'red')\n",
    "    plt.tight_layout()\n",
    "    plt.show()"
   ]
  },
  {
   "cell_type": "code",
   "execution_count": null,
   "id": "99971f3d",
   "metadata": {},
   "outputs": [],
   "source": [
    "# CNN Model Predictions\n",
    "plot_predictions(resnet_model)"
   ]
  }
 ],
 "metadata": {
  "kernelspec": {
   "display_name": "Python 3",
   "language": "python",
   "name": "python3"
  },
  "language_info": {
   "codemirror_mode": {
    "name": "ipython",
    "version": 3
   },
   "file_extension": ".py",
   "mimetype": "text/x-python",
   "name": "python",
   "nbconvert_exporter": "python",
   "pygments_lexer": "ipython3",
   "version": "3.10.6"
  }
 },
 "nbformat": 4,
 "nbformat_minor": 5
}
